{
 "cells": [
  {
   "cell_type": "markdown",
   "metadata": {},
   "source": [
    "## PSTAT 160A Summer 2023 Python Homework 1\n",
    "\n",
    "**Release date:** Monday, August 7th <br>\n",
    "**Due date:** Wednesday, August 16th, 11:59 p.m. via Gradescope\n",
    "\n",
    "**Instructions:** Please upload your IPYNB file on Gradescope with filename \"PythonHW1_YOURPERMNUMBER\".\n"
   ]
  },
  {
   "cell_type": "markdown",
   "metadata": {},
   "source": [
    "As usual, we start with loading some packages:"
   ]
  },
  {
   "cell_type": "code",
   "execution_count": 1,
   "metadata": {},
   "outputs": [],
   "source": [
    "import numpy as np\n",
    "import random"
   ]
  },
  {
   "cell_type": "markdown",
   "metadata": {},
   "source": [
    "## Problem 1 (5 points)"
   ]
  },
  {
   "cell_type": "markdown",
   "metadata": {},
   "source": [
    "1. Implement the simulation of a biased 6-sided die which takes the values 1,2,3,4,5,6 with probabilities 0.15,0.25,0.05,0.25,0.10,0.2."
   ]
  },
  {
   "cell_type": "code",
   "execution_count": 2,
   "metadata": {},
   "outputs": [],
   "source": [
    "import numpy.random as npr\n",
    "npr.seed(160)\n",
    "\n",
    "def roll():\n",
    "    # generate random number from 0 to 1\n",
    "    r = np.random() \n",
    "    # applying cumulative probability\n",
    "    if r <= 0.15:\n",
    "        return 1\n",
    "    elif r <= 0.15 + 0.25:\n",
    "        return 2\n",
    "    elif r <= 0.15 + 0.25 + 0.05:\n",
    "        return 3\n",
    "    elif r <= 0.15 + 0.25 + 0.05 + 0.25:\n",
    "        return 4\n",
    "    elif r <= 0.15 + 0.25 + 0.05 + 0.25 + 0.10:\n",
    "        return 5\n",
    "    else:\n",
    "        return 6\n"
   ]
  },
  {
   "cell_type": "markdown",
   "metadata": {},
   "source": [
    "2. Plot a histogram with results of 1,000 simulations. Check if the relative counts of each die outcome are approximately equal to the corresponding specified probabilities.\n",
    "\n",
    "_Remark:_ Specify the bins of your histogram correctly."
   ]
  },
  {
   "cell_type": "code",
   "execution_count": 3,
   "metadata": {},
   "outputs": [
    {
     "ename": "TypeError",
     "evalue": "'module' object is not callable",
     "output_type": "error",
     "traceback": [
      "\u001b[0;31m---------------------------------------------------------------------------\u001b[0m",
      "\u001b[0;31mTypeError\u001b[0m                                 Traceback (most recent call last)",
      "\u001b[0;32m/var/folders/pl/31ngxp4j391dbqz8yxjhvblm0000gn/T/ipykernel_32954/3657081295.py\u001b[0m in \u001b[0;36m<module>\u001b[0;34m\u001b[0m\n\u001b[1;32m      1\u001b[0m \u001b[0;32mimport\u001b[0m \u001b[0mmatplotlib\u001b[0m\u001b[0;34m.\u001b[0m\u001b[0mpyplot\u001b[0m \u001b[0;32mas\u001b[0m \u001b[0mplt\u001b[0m\u001b[0;34m\u001b[0m\u001b[0;34m\u001b[0m\u001b[0m\n\u001b[1;32m      2\u001b[0m \u001b[0;34m\u001b[0m\u001b[0m\n\u001b[0;32m----> 3\u001b[0;31m \u001b[0mresults\u001b[0m \u001b[0;34m=\u001b[0m \u001b[0;34m[\u001b[0m\u001b[0mroll\u001b[0m\u001b[0;34m(\u001b[0m\u001b[0;34m)\u001b[0m \u001b[0;32mfor\u001b[0m \u001b[0m_\u001b[0m \u001b[0;32min\u001b[0m \u001b[0mrange\u001b[0m\u001b[0;34m(\u001b[0m\u001b[0;36m1000\u001b[0m\u001b[0;34m)\u001b[0m\u001b[0;34m]\u001b[0m\u001b[0;34m\u001b[0m\u001b[0;34m\u001b[0m\u001b[0m\n\u001b[0m\u001b[1;32m      4\u001b[0m \u001b[0;34m\u001b[0m\u001b[0m\n\u001b[1;32m      5\u001b[0m \u001b[0;31m# Plot the histogram\u001b[0m\u001b[0;34m\u001b[0m\u001b[0;34m\u001b[0m\u001b[0m\n",
      "\u001b[0;32m/var/folders/pl/31ngxp4j391dbqz8yxjhvblm0000gn/T/ipykernel_32954/3657081295.py\u001b[0m in \u001b[0;36m<listcomp>\u001b[0;34m(.0)\u001b[0m\n\u001b[1;32m      1\u001b[0m \u001b[0;32mimport\u001b[0m \u001b[0mmatplotlib\u001b[0m\u001b[0;34m.\u001b[0m\u001b[0mpyplot\u001b[0m \u001b[0;32mas\u001b[0m \u001b[0mplt\u001b[0m\u001b[0;34m\u001b[0m\u001b[0;34m\u001b[0m\u001b[0m\n\u001b[1;32m      2\u001b[0m \u001b[0;34m\u001b[0m\u001b[0m\n\u001b[0;32m----> 3\u001b[0;31m \u001b[0mresults\u001b[0m \u001b[0;34m=\u001b[0m \u001b[0;34m[\u001b[0m\u001b[0mroll\u001b[0m\u001b[0;34m(\u001b[0m\u001b[0;34m)\u001b[0m \u001b[0;32mfor\u001b[0m \u001b[0m_\u001b[0m \u001b[0;32min\u001b[0m \u001b[0mrange\u001b[0m\u001b[0;34m(\u001b[0m\u001b[0;36m1000\u001b[0m\u001b[0;34m)\u001b[0m\u001b[0;34m]\u001b[0m\u001b[0;34m\u001b[0m\u001b[0;34m\u001b[0m\u001b[0m\n\u001b[0m\u001b[1;32m      4\u001b[0m \u001b[0;34m\u001b[0m\u001b[0m\n\u001b[1;32m      5\u001b[0m \u001b[0;31m# Plot the histogram\u001b[0m\u001b[0;34m\u001b[0m\u001b[0;34m\u001b[0m\u001b[0m\n",
      "\u001b[0;32m/var/folders/pl/31ngxp4j391dbqz8yxjhvblm0000gn/T/ipykernel_32954/2781461042.py\u001b[0m in \u001b[0;36mroll\u001b[0;34m()\u001b[0m\n\u001b[1;32m      4\u001b[0m \u001b[0;32mdef\u001b[0m \u001b[0mroll\u001b[0m\u001b[0;34m(\u001b[0m\u001b[0;34m)\u001b[0m\u001b[0;34m:\u001b[0m\u001b[0;34m\u001b[0m\u001b[0;34m\u001b[0m\u001b[0m\n\u001b[1;32m      5\u001b[0m     \u001b[0;31m# generate random number from 0 to 1\u001b[0m\u001b[0;34m\u001b[0m\u001b[0;34m\u001b[0m\u001b[0m\n\u001b[0;32m----> 6\u001b[0;31m     \u001b[0mr\u001b[0m \u001b[0;34m=\u001b[0m \u001b[0mnp\u001b[0m\u001b[0;34m.\u001b[0m\u001b[0mrandom\u001b[0m\u001b[0;34m(\u001b[0m\u001b[0;34m)\u001b[0m\u001b[0;34m\u001b[0m\u001b[0;34m\u001b[0m\u001b[0m\n\u001b[0m\u001b[1;32m      7\u001b[0m     \u001b[0;31m# applying cumulative probability\u001b[0m\u001b[0;34m\u001b[0m\u001b[0;34m\u001b[0m\u001b[0m\n\u001b[1;32m      8\u001b[0m     \u001b[0;32mif\u001b[0m \u001b[0mr\u001b[0m \u001b[0;34m<=\u001b[0m \u001b[0;36m0.15\u001b[0m\u001b[0;34m:\u001b[0m\u001b[0;34m\u001b[0m\u001b[0;34m\u001b[0m\u001b[0m\n",
      "\u001b[0;31mTypeError\u001b[0m: 'module' object is not callable"
     ]
    }
   ],
   "source": [
    "import matplotlib.pyplot as plt\n",
    "\n",
    "results = [roll() for _ in range(1000)]\n",
    "\n",
    "# Plot the histogram\n",
    "plt.hist(results, bins=[0.5, 1.5, 2.5, 3.5, 4.5, 5.5, 6.5], rwidth=0.8)\n",
    "plt.title(\"1000 times simulation\")\n",
    "plt.xlabel(\"Outcome\")\n",
    "plt.ylabel(\"Number of Rolls\")\n",
    "plt.xticks(list(range(1, 7)))\n",
    "plt.show()"
   ]
  },
  {
   "cell_type": "markdown",
   "metadata": {},
   "source": [
    "3. Plot a histogram with results of 100,000 simulations. Compare again the relative counts of each die outcomes to the specified probabilities. What do you find (summarize in 2-3 sentences).\n",
    "\n"
   ]
  },
  {
   "cell_type": "code",
   "execution_count": null,
   "metadata": {},
   "outputs": [],
   "source": [
    "import matplotlib.pyplot as plt\n",
    "\n",
    "results = [roll() for _ in range(100000)]\n",
    "\n",
    "# Plot the histogram\n",
    "plt.hist(results, bins=[0.5, 1.5, 2.5, 3.5, 4.5, 5.5, 6.5], rwidth=0.8)\n",
    "plt.title(\"100000 times simulation\")\n",
    "plt.xlabel(\"Outcome\")\n",
    "plt.ylabel(\"Number of Rolls\")\n",
    "plt.xticks(list(range(1, 7)))\n",
    "plt.show()"
   ]
  },
  {
   "cell_type": "markdown",
   "metadata": {},
   "source": [
    "**Response:** While rolling 100,000 times, the observed distribution of the die outcomes is more closely align with the given theoretical probabilities than rolling 1000 times."
   ]
  },
  {
   "cell_type": "markdown",
   "metadata": {},
   "source": [
    "## Problem 2 (5 Points)\n",
    "\n",
    "Every day Mike goes to get coffee at Dune Coffee, and randomly orders one of cappuccino, latte, macchiato, espresso or flat white -- 5 choices that he picks uniformly at random. "
   ]
  },
  {
   "cell_type": "markdown",
   "metadata": {},
   "source": [
    "1. Implement a simulator which uniformly samples from one of the 5 drinks above:"
   ]
  },
  {
   "cell_type": "code",
   "execution_count": null,
   "metadata": {},
   "outputs": [],
   "source": [
    "np.random.seed(1000)\n",
    "\n",
    "def order():\n",
    "    # generate random number from 0 to 1\n",
    "    r = np.random() \n",
    "    # applying cumulative probability which is uniform\n",
    "    if r <= 0.2:\n",
    "        return 'cappuccino'\n",
    "    elif r <= 0.4:\n",
    "        return 'latte'\n",
    "    elif r <= 0.6:\n",
    "        return 'macchiato'\n",
    "    elif r <= 0.8:\n",
    "        return 'espresso'\n",
    "    else:\n",
    "        return 'flat white'"
   ]
  },
  {
   "cell_type": "markdown",
   "metadata": {},
   "source": [
    "2. On the day that Mike first picks **espresso**, find the empricial _mean_ and empirical _standard deviation_ of the number of prior days in which he picked a **latte** by running 100,000 simulations. [This question is conceptually similar to the question about rolling 5's before the first '6' appears that was done in one of the videos -- now we re-solve it/verify the answer by simulation]\n",
    "\n"
   ]
  },
  {
   "cell_type": "code",
   "execution_count": null,
   "metadata": {},
   "outputs": [],
   "source": [
    "def event():\n",
    "    count = 0\n",
    "    while True:\n",
    "        drink = order()\n",
    "        if drink == 'latte':\n",
    "            count += 1\n",
    "        elif drink == 'espresso':\n",
    "            break\n",
    "    return count\n",
    "\n",
    "# Run the simulation 100,000 times\n",
    "results = [event() for _ in range(100000)]\n",
    "\n",
    "# Calculate empirical mean and standard deviation\n",
    "mean = np.mean(results)\n",
    "stdev = np.std(results)\n",
    "\n",
    "print(f\"Empirical Mean: {mean}\")\n",
    "print(f\"Empirical Std: {stdev}\")"
   ]
  },
  {
   "cell_type": "code",
   "execution_count": null,
   "metadata": {},
   "outputs": [],
   "source": []
  }
 ],
 "metadata": {
  "kernelspec": {
   "display_name": "Python 3 (ipykernel)",
   "language": "python",
   "name": "python3"
  },
  "language_info": {
   "codemirror_mode": {
    "name": "ipython",
    "version": 3
   },
   "file_extension": ".py",
   "mimetype": "text/x-python",
   "name": "python",
   "nbconvert_exporter": "python",
   "pygments_lexer": "ipython3",
   "version": "3.9.13"
  }
 },
 "nbformat": 4,
 "nbformat_minor": 2
}
