{
 "cells": [
  {
   "cell_type": "markdown",
   "metadata": {},
   "source": [
    "## PSTAT 160A Summer 2023 Python Homework 1\n",
    "\n",
    "**Release date:** Monday, August 7th <br>\n",
    "**Due date:** Wednesday, August 16th, 11:59 p.m. via Gradescope\n",
    "\n",
    "**Instructions:** Please upload your IPYNB file on Gradescope with filename \"PythonHW1_YOURPERMNUMBER\".\n"
   ]
  },
  {
   "cell_type": "markdown",
   "metadata": {},
   "source": [
    "As usual, we start with loading some packages:"
   ]
  },
  {
   "cell_type": "code",
   "execution_count": 1,
   "metadata": {},
   "outputs": [],
   "source": [
    "import numpy as np\n",
    "import random"
   ]
  },
  {
   "cell_type": "markdown",
   "metadata": {},
   "source": [
    "## Problem 1 (5 points)"
   ]
  },
  {
   "cell_type": "markdown",
   "metadata": {},
   "source": [
    "1. Implement the simulation of a biased 6-sided die which takes the values 1,2,3,4,5,6 with probabilities 0.15,0.25,0.05,0.25,0.10,0.2."
   ]
  },
  {
   "cell_type": "code",
   "execution_count": null,
   "metadata": {},
   "outputs": [],
   "source": [
    "import numpy.random as npr\n",
    "npr.seed(160)\n",
    "\n",
    "def roll_biased_die():\n",
    "    r = random.random() #Using Cumulative Probabi\n",
    "    if r <= 0.15:\n",
    "        return 1\n",
    "    elif r <= 0.15 + 0.25:\n",
    "        return 2\n",
    "    elif r <= 0.15 + 0.25 + 0.05:\n",
    "        return 3\n",
    "    elif r <= 0.15 + 0.25 + 0.05 + 0.25:\n",
    "        return 4\n",
    "    elif r <= 0.15 + 0.25 + 0.05 + 0.25 + 0.10:\n",
    "        return 5\n",
    "    else:\n",
    "        return 6\n"
   ]
  },
  {
   "cell_type": "markdown",
   "metadata": {},
   "source": [
    "2. Plot a histogram with results of 1,000 simulations. Check if the relative counts of each die outcome are approximately equal to the corresponding specified probabilities.\n",
    "\n",
    "_Remark:_ Specify the bins of your histogram correctly."
   ]
  },
  {
   "cell_type": "code",
   "execution_count": null,
   "metadata": {},
   "outputs": [],
   "source": [
    "# WRITE YOUR OWN CODE HERE! FEEL FREE TO INSERT MORE CELLS!\n",
    "# BE SURE TO ADD SOME COMMENTS TO YOUR CODE!"
   ]
  },
  {
   "cell_type": "markdown",
   "metadata": {},
   "source": [
    "3. Plot a histogram with results of 100,000 simulations. Compare again the relative counts of each die outcomes to the specified probabilities. What do you find (summarize in 2-3 sentences).\n",
    "\n"
   ]
  },
  {
   "cell_type": "code",
   "execution_count": null,
   "metadata": {},
   "outputs": [],
   "source": [
    "# WRITE YOUR OWN CODE HERE! FEEL FREE TO INSERT MORE CELLS!\n",
    "# BE SURE TO ADD SOME COMMENTS TO YOUR CODE!"
   ]
  },
  {
   "cell_type": "markdown",
   "metadata": {},
   "source": [
    "## Problem 2 (5 Points)\n",
    "\n",
    "Every day Mike goes to get coffee at Dune Coffee, and randomly orders one of cappuccino, latte, macchiato, espresso or flat white -- 5 choices that he picks uniformly at random. "
   ]
  },
  {
   "cell_type": "markdown",
   "metadata": {},
   "source": [
    "1. Implement a simulator which uniformly samples from one of the 5 drinks above:"
   ]
  },
  {
   "cell_type": "code",
   "execution_count": null,
   "metadata": {},
   "outputs": [],
   "source": [
    "np.random.seed(1000)\n",
    "# WRITE YOUR OWN CODE HERE! FEEL FREE TO INSERT MORE CELLS!\n",
    "# BE SURE TO ADD SOME COMMENTS TO YOUR CODE!\n"
   ]
  },
  {
   "cell_type": "markdown",
   "metadata": {},
   "source": [
    "2. On the day that Mike first picks **espresso**, find the empricial _mean_ and empirical _standard deviation_ of the number of prior days in which he picked a **latte** by running 100,000 simulations. [This question is conceptually similar to the question about rolling 5's before the first '6' appears that was done in one of the videos -- now we re-solve it/verify the answer by simulation]\n",
    "\n"
   ]
  },
  {
   "cell_type": "code",
   "execution_count": null,
   "metadata": {},
   "outputs": [],
   "source": [
    "# WRITE YOUR OWN CODE HERE! FEEL FREE TO INSERT MORE CELLS!\n",
    "# BE SURE TO ADD SOME COMMENTS TO YOUR CODE!\n"
   ]
  },
  {
   "cell_type": "code",
   "execution_count": null,
   "metadata": {},
   "outputs": [],
   "source": []
  }
 ],
 "metadata": {
  "kernelspec": {
   "display_name": "Python 3 (ipykernel)",
   "language": "python",
   "name": "python3"
  },
  "language_info": {
   "codemirror_mode": {
    "name": "ipython",
    "version": 3
   },
   "file_extension": ".py",
   "mimetype": "text/x-python",
   "name": "python",
   "nbconvert_exporter": "python",
   "pygments_lexer": "ipython3",
   "version": "3.9.13"
  }
 },
 "nbformat": 4,
 "nbformat_minor": 2
}
